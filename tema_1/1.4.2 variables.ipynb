{
 "cells": [
  {
   "cell_type": "markdown",
   "id": "ec7da953",
   "metadata": {},
   "source": [
    "# Variables en Python\n",
    "Este cuaderno explica el uso de **variables en Python** con ejemplos y ejercicios."
   ]
  },
  {
   "cell_type": "markdown",
   "id": "161d6c95",
   "metadata": {},
   "source": [
    "## 1️⃣ ¿Qué es una variable?\n",
    "En Python, las variables se usan para **almacenar datos** que pueden referenciarse y manipularse durante la ejecución.\n",
    "Una variable es un **nombre asignado a un valor**. No es necesario declarar el tipo; Python lo infiere."
   ]
  },
  {
   "cell_type": "code",
   "execution_count": null,
   "id": "46327229",
   "metadata": {},
   "outputs": [],
   "source": [
    "# Ejemplo básico (variables en inglés, comentarios en español)\n",
    "x = 5  # entero\n",
    "name = \"Samantha\"  # cadena\n",
    "\n",
    "print(x)      # 5\n",
    "print(name)   # Samantha"
   ]
  },
  {
   "cell_type": "markdown",
   "id": "0a4229db",
   "metadata": {},
   "source": [
    "### Ejercicio 1\n",
    "Crea tres variables llamadas `first_name`, `age` y `city`, asígnales valores y muéstralos con `print()`."
   ]
  },
  {
   "cell_type": "code",
   "execution_count": 2,
   "id": "1dbd67b8",
   "metadata": {},
   "outputs": [
    {
     "name": "stdout",
     "output_type": "stream",
     "text": [
      "PEPE 9874 asd\n"
     ]
    }
   ],
   "source": [
    "first_name = 'PEPE'\n",
    "age = 9874\n",
    "city = 'asd'\n",
    "print(first_name, age, city)\n"
   ]
  },
  {
   "cell_type": "markdown",
   "id": "20723092",
   "metadata": {},
   "source": [
    "## 2️⃣ Reglas para nombrar variables\n",
    "- Letras, dígitos y guion bajo `_`.\n",
    "- No pueden empezar con un dígito.\n",
    "- Sensibles a mayúsculas/minúsculas.\n",
    "- No usar palabras clave de Python."
   ]
  },
  {
   "cell_type": "code",
   "execution_count": null,
   "id": "bda563cf",
   "metadata": {},
   "outputs": [
    {
     "name": "stdout",
     "output_type": "stream",
     "text": [
      "21 lilac 90\n"
     ]
    }
   ],
   "source": [
    "# Ejemplos válidos\n",
    "age = 21\n",
    "_colour = \"lilac\"\n",
    "total_score = 90\n",
    "\n",
    "# Ejemplos inválidos (no ejecutar)\n",
    "# 1name = \"Error\"\n",
    "# class = 10\n",
    "# user-name = \"Doe\""
   ]
  },
  {
   "cell_type": "markdown",
   "id": "5840c9b0",
   "metadata": {},
   "source": [
    "### Ejercicio 2\n",
    "Escribe cinco nombres de variables para un programa de notas de alumnos, cumpliendo las reglas de Python."
   ]
  },
  {
   "cell_type": "code",
   "execution_count": 22,
   "id": "da4d381d",
   "metadata": {},
   "outputs": [
    {
     "name": "stdout",
     "output_type": "stream",
     "text": [
      "black no es pepe chula no te enchules de mi 48852\n",
      "4 8 2\n"
     ]
    }
   ],
   "source": [
    "color = 'black'\n",
    "numero_color = 48852\n",
    "_pepe = 'no es pepe'\n",
    "cHulx = 'chula no te enchules de mi'\n",
    "\n",
    "print(color, _pepe, cHulx, numero_color)\n",
    "\n",
    "\n",
    "\n",
    "#1st_value = 1 # no es valido porque tienen un numero como nombre de variable\n",
    "\n",
    "#total-sum = 1 # no es valido porque tiene un - dentro del nombre de la variable\n",
    "\n",
    "_cache = 8 # si es valido\n",
    "\n",
    "userName = 4 # si es valido\n",
    "\n",
    "#for = 1 # no es valido ya que for es un forma de bucles y no puede servir como nombre de variable\n",
    "\n",
    "score2 = 2 #si es valido\n",
    "\n",
    "print(userName, _cache, score2)"
   ]
  },
  {
   "cell_type": "markdown",
   "id": "f32decf9",
   "metadata": {},
   "source": [
    "**Naming**\n",
    "    \n",
    "Indica si los siguientes nombres serían válidos en Python. Si no lo son, explica por qué y propón una alternativa válida.\n",
    "```\n",
    "1st_value\n",
    "\n",
    "total-sum\n",
    "\n",
    "_cache\n",
    "\n",
    "userName\n",
    "\n",
    "for\n",
    "\n",
    "score2\n",
    "```"
   ]
  },
  {
   "cell_type": "markdown",
   "id": "26441164",
   "metadata": {},
   "source": [
    "\n",
    "#1st_value = 1 # no es valido porque tienen un numero como nombre de variable\n",
    "\n",
    "#total-sum = 1 # no es valido porque tiene un - dentro del nombre de la variable\n",
    "\n",
    "_cache = 8 # si es valido\n",
    "\n",
    "userName = 4 # si es valido\n",
    "\n",
    "#for = 1 # no es valido ya que for es un forma de bucles y no puede servir como nombre de variable\n",
    "\n",
    "score2 = 2 #si es valido\n",
    "\n",
    "print(userName, _cache, score2)\n"
   ]
  },
  {
   "cell_type": "markdown",
   "id": "1add975a",
   "metadata": {},
   "source": [
    "## 3️⃣ Asignación de valores y tipado dinámico\n",
    "Puedes asignar valores con `=` y usar tipado dinámico (una misma variable puede referenciar objetos de distintos tipos a lo largo del programa)."
   ]
  },
  {
   "cell_type": "code",
   "execution_count": null,
   "id": "b6dc89d9",
   "metadata": {},
   "outputs": [],
   "source": [
    "# Asignación básica y tipado dinámico\n",
    "score = 10  # entero\n",
    "print(type(score))  # mostrar tipo\n",
    "score = \"ten\"  # ahora cadena\n",
    "print(type(score))"
   ]
  },
  {
   "cell_type": "markdown",
   "id": "2485683b",
   "metadata": {},
   "source": [
    "### Ejercicio 3\n",
    "Declara una variable `score` con valor `10`. Reasígnala con el texto `\"ten\"` y muestra su tipo después de cada cambio usando `type()`."
   ]
  },
  {
   "cell_type": "code",
   "execution_count": 24,
   "id": "4720e64e",
   "metadata": {},
   "outputs": [
    {
     "name": "stdout",
     "output_type": "stream",
     "text": [
      "<class 'int'>\n",
      "<class 'str'>\n"
     ]
    }
   ],
   "source": [
    "score = 10\n",
    "print(type(score))\n",
    "score = 'ten'\n",
    "print(type(score))"
   ]
  },
  {
   "cell_type": "markdown",
   "id": "0b1bd6d1",
   "metadata": {},
   "source": [
    "## 4️⃣ Asignaciones múltiples\n",
    "- Mismo valor en varias variables.\n",
    "- Valores diferentes en una sola línea.\n",
    "- Intercambio (swap) sin variable temporal."
   ]
  },
  {
   "cell_type": "code",
   "execution_count": 28,
   "id": "3107c448",
   "metadata": {},
   "outputs": [
    {
     "name": "stdout",
     "output_type": "stream",
     "text": [
      "100 100 100\n",
      "Spain 34 True\n",
      "2 1\n"
     ]
    }
   ],
   "source": [
    "# Mismo valor para varias variables\n",
    "a = b = c = 100\n",
    "print(a, b, c)\n",
    "\n",
    "# Valores diferentes en una sola línea\n",
    "country, code, european = \"Spain\", 34, True\n",
    "print(country, code, european)\n",
    "\n",
    "# Swap sin variable temporal\n",
    "left, right = 1, 2\n",
    "left, right = right, left\n",
    "print(left, right)"
   ]
  },
  {
   "cell_type": "markdown",
   "id": "a79acc40",
   "metadata": {},
   "source": [
    "### Ejercicio 4\n",
    "En una sola línea, asigna `country = \"Spain\"`, `code = 34`, `european = True`. Imprime los valores."
   ]
  },
  {
   "cell_type": "code",
   "execution_count": 26,
   "id": "1d354c02",
   "metadata": {},
   "outputs": [
    {
     "name": "stdout",
     "output_type": "stream",
     "text": [
      "Spain 56 False\n"
     ]
    }
   ],
   "source": [
    "country, code, european = 'Spain', 56, False\n",
    "print(country, code, european)\n"
   ]
  },
  {
   "cell_type": "markdown",
   "id": "583b0e81",
   "metadata": {},
   "source": [
    "## 5️⃣ Conversión de tipos (Type casting)\n",
    "Usa `int()`, `float()` y `str()` para convertir valores entre tipos básicos."
   ]
  },
  {
   "cell_type": "code",
   "execution_count": null,
   "id": "c2fb3bba",
   "metadata": {},
   "outputs": [],
   "source": [
    "# Ejemplos de casting\n",
    "s = \"10\"  # cadena\n",
    "n = int(s)  # a entero\n",
    "cnt = 5\n",
    "f = float(cnt)  # a flotante\n",
    "age = 25\n",
    "s2 = str(age)   # a cadena\n",
    "\n",
    "print(n)   # 10\n",
    "print(f)   # 5.0\n",
    "print(s2)  # 25"
   ]
  },
  {
   "cell_type": "markdown",
   "id": "ccd63f03",
   "metadata": {},
   "source": [
    "### Ejercicio 5\n",
    "Convierte la cadena `\"25\"` a entero y luego a flotante. Imprime el resultado en cada paso."
   ]
  },
  {
   "cell_type": "code",
   "execution_count": 33,
   "id": "153f7fcb",
   "metadata": {},
   "outputs": [
    {
     "name": "stdout",
     "output_type": "stream",
     "text": [
      "<class 'int'>\n",
      "25\n",
      "<class 'str'>\n",
      "25number\n",
      "<class 'float'>\n",
      "25.0\n"
     ]
    }
   ],
   "source": [
    "number = 25\n",
    "print(type(number))\n",
    "print(number)\n",
    "number = str(25)\n",
    "print(type(number))\n",
    "print(number + 'number')\n",
    "number = float(25)\n",
    "print(type(number))\n",
    "print(number)\n",
    "\n",
    "\n",
    "\n"
   ]
  },
  {
   "cell_type": "markdown",
   "id": "227fe8ce",
   "metadata": {},
   "source": [
    "## 6️⃣ Obtener el tipo de una variable\n",
    "La función `type()` devuelve el tipo del objeto pasado."
   ]
  },
  {
   "cell_type": "code",
   "execution_count": null,
   "id": "ddb30f8d",
   "metadata": {},
   "outputs": [],
   "source": [
    "# Ejemplo de type()\n",
    "n = 42\n",
    "f = 3.14\n",
    "s = \"Hello, World!\"\n",
    "li = [1, 2, 3]\n",
    "d = {\"key\": \"value\"}\n",
    "flag = True\n",
    "\n",
    "print(type(n))\n",
    "print(type(f))\n",
    "print(type(s))\n",
    "print(type(li))\n",
    "print(type(d))\n",
    "print(type(flag))"
   ]
  },
  {
   "cell_type": "markdown",
   "id": "86329324",
   "metadata": {},
   "source": [
    "### Ejercicio 6\n",
    "Declara variables de los tipos: `int`, `float`, `str`, `list`, `dict` y `bool`. Usa `type()` para imprimir el tipo de cada una."
   ]
  },
  {
   "cell_type": "code",
   "execution_count": 37,
   "id": "ecceaaa4",
   "metadata": {},
   "outputs": [
    {
     "name": "stdout",
     "output_type": "stream",
     "text": [
      "<class 'int'>\n",
      "<class 'float'>\n",
      "<class 'str'>\n",
      "<class 'list'>\n",
      "<class 'dict'>\n",
      "<class 'bool'>\n"
     ]
    }
   ],
   "source": [
    "x = 5\n",
    "x0 = 5.0\n",
    "x1 = '5'\n",
    "x2 = [5, 5 ,5]\n",
    "x3 = {'edad': 5}\n",
    "x4 = 5 == 5\n",
    "\n",
    "print(type(x))\n",
    "print(type(x0))\n",
    "print(type(x1))\n",
    "print(type(x2))\n",
    "print(type(x3))\n",
    "print(type(x4))\n",
    "\n"
   ]
  },
  {
   "cell_type": "markdown",
   "id": "6e0485ab",
   "metadata": {},
   "source": [
    "## 7️⃣ Referencia a objetos en Python\n",
    "Los nombres referencian objetos. Si dos nombres apuntan al mismo objeto **mutable**, un cambio será visible desde ambos."
   ]
  },
  {
   "cell_type": "code",
   "execution_count": 38,
   "id": "b370bacf",
   "metadata": {},
   "outputs": [
    {
     "name": "stdout",
     "output_type": "stream",
     "text": [
      "[1, 2, 3]\n",
      "10 11\n"
     ]
    }
   ],
   "source": [
    "# Ejemplo con lista (mutable)\n",
    "items = [1, 2]          # lista\n",
    "alias = items           # misma referencia\n",
    "alias.append(3)         # mutamos el objeto\n",
    "print(items)            # [1, 2, 3]\n",
    "\n",
    "# Ejemplo con enteros (inmutables)\n",
    "a = 10\n",
    "b = a\n",
    "b = b + 1               # crea un nuevo entero\n",
    "print(a, b)             # 10 11"
   ]
  },
  {
   "cell_type": "markdown",
   "id": "cee1282b",
   "metadata": {},
   "source": [
    "### Ejercicio 7\n",
    "Crea una lista con dos números y asígnala a dos variables diferentes. Modifica la lista desde una de ellas y observa el resultado en la otra."
   ]
  },
  {
   "cell_type": "code",
   "execution_count": 10,
   "id": "c6fa22f0",
   "metadata": {},
   "outputs": [
    {
     "name": "stdout",
     "output_type": "stream",
     "text": [
      "[1, 2, 3, 4]\n"
     ]
    }
   ],
   "source": [
    "x =[1, 2, 3]\n",
    "a = x\n",
    "y = a + [4]\n",
    "print(y)\n"
   ]
  },
  {
   "cell_type": "markdown",
   "id": "9e7cc235",
   "metadata": {},
   "source": [
    "## 8️⃣ Eliminar variables con `del`\n",
    "`del nombre` elimina el **nombre** del espacio de nombres. Acceder después al nombre produce `NameError`."
   ]
  },
  {
   "cell_type": "code",
   "execution_count": 18,
   "id": "31229be0",
   "metadata": {},
   "outputs": [
    {
     "name": "stdout",
     "output_type": "stream",
     "text": [
      "99\n"
     ]
    }
   ],
   "source": [
    "# Ejemplo de del\n",
    "temp = 99\n",
    "print(temp)\n",
    "del temp\n",
    "# print(temp)  # provocaría NameError"
   ]
  },
  {
   "cell_type": "markdown",
   "id": "0da0cc45",
   "metadata": {},
   "source": [
    "### Ejercicio 8\n",
    "Crea una variable `temp`, imprímela, elimínala con `del` e intenta imprimirla de nuevo (comenta el error que se produce)."
   ]
  },
  {
   "cell_type": "code",
   "execution_count": 17,
   "id": "835f319b",
   "metadata": {},
   "outputs": [
    {
     "name": "stdout",
     "output_type": "stream",
     "text": [
      "100 99\n"
     ]
    },
    {
     "ename": "NameError",
     "evalue": "name 'temp' is not defined",
     "output_type": "error",
     "traceback": [
      "\u001b[31m---------------------------------------------------------------------------\u001b[39m",
      "\u001b[31mNameError\u001b[39m                                 Traceback (most recent call last)",
      "\u001b[36mCell\u001b[39m\u001b[36m \u001b[39m\u001b[32mIn[17]\u001b[39m\u001b[32m, line 7\u001b[39m\n\u001b[32m      5\u001b[39m \u001b[38;5;28mprint\u001b[39m(temp, y)\n\u001b[32m      6\u001b[39m \u001b[38;5;28;01mdel\u001b[39;00m temp\n\u001b[32m----> \u001b[39m\u001b[32m7\u001b[39m \u001b[38;5;28mprint\u001b[39m(\u001b[43mtemp\u001b[49m)\n",
      "\u001b[31mNameError\u001b[39m: name 'temp' is not defined"
     ]
    }
   ],
   "source": [
    "# Escribe aquí tu código\n",
    "temp = 100\n",
    "x = temp\n",
    "y = x - 1\n",
    "print(temp, y)\n",
    "del temp\n",
    "print(temp)"
   ]
  },
  {
   "cell_type": "markdown",
   "id": "ae82943d",
   "metadata": {},
   "source": [
    "## 9️⃣ Ejemplos prácticos"
   ]
  },
  {
   "cell_type": "code",
   "execution_count": 19,
   "id": "0e26ea7f",
   "metadata": {},
   "outputs": [
    {
     "name": "stdout",
     "output_type": "stream",
     "text": [
      "10 5\n",
      "Length of the word: 6\n"
     ]
    }
   ],
   "source": [
    "# Swap de variables\n",
    "left, right = 5, 10\n",
    "left, right = right, left\n",
    "print(left, right)\n",
    "\n",
    "# Longitud de una cadena asignada a una variable\n",
    "word = \"Python\"\n",
    "length = len(word)\n",
    "print(\"Length of the word:\", length)"
   ]
  },
  {
   "cell_type": "markdown",
   "id": "cab332e0",
   "metadata": {},
   "source": [
    "### Ejercicio 9\n",
    "Crea dos variables con números y realiza un swap para intercambiar sus valores. Imprime el resultado."
   ]
  },
  {
   "cell_type": "code",
   "execution_count": 24,
   "id": "a15b74de",
   "metadata": {},
   "outputs": [
    {
     "name": "stdout",
     "output_type": "stream",
     "text": [
      "y: 552 x: 255\n"
     ]
    }
   ],
   "source": [
    "# Escribe aquí tu código\n",
    "x, y = 255, 552\n",
    "x, y = y, x\n",
    "print('y:',x, 'x:',y)"
   ]
  },
  {
   "cell_type": "markdown",
   "id": "ad2e302a",
   "metadata": {},
   "source": [
    "## 🔟 Ejemplos adicionales"
   ]
  },
  {
   "cell_type": "code",
   "execution_count": 31,
   "id": "0631dcd5",
   "metadata": {},
   "outputs": [
    {
     "name": "stdout",
     "output_type": "stream",
     "text": [
      "<class 'int'>\n",
      "<class 'str'>\n",
      "['a', 'b', 'c'] ['a', 'b', 'c'] ['a', 'b']\n",
      "localhost 8080 True\n"
     ]
    }
   ],
   "source": [
    "# Tipado dinámico\n",
    "value = 3\n",
    "print(type(value))\n",
    "value = \"three\"\n",
    "print(type(value))\n",
    "\n",
    "# Referencias compartidas\n",
    "letters = [\"a\", \"b\"]\n",
    "alias_letters = letters\n",
    "clone_letters = letters[:]\n",
    "alias_letters.append(\"c\")\n",
    "print(letters, alias_letters, clone_letters)\n",
    "\n",
    "# Asignación múltiple\n",
    "host, port, secure = \"localhost\", 8080, True\n",
    "print(host, port, secure)"
   ]
  },
  {
   "cell_type": "markdown",
   "id": "dd575adb",
   "metadata": {},
   "source": [
    "### Ejercicio 10\n",
    "Crea una variable `letters` con una lista de letras. Cópiala en `alias_letters` y en `clone_letters` (usando slicing). Añade un elemento desde `alias_letters` y observa cómo cambian las tres variables."
   ]
  },
  {
   "cell_type": "code",
   "execution_count": 38,
   "id": "ee245601",
   "metadata": {},
   "outputs": [
    {
     "name": "stdout",
     "output_type": "stream",
     "text": [
      "['s', 'o', 'f', 'i'] ['s', 'o', 'f', 'i'] ['s', 'o', 'f']\n"
     ]
    }
   ],
   "source": [
    "# Escribe aquí tu código\n",
    "letters = ['s', 'o', 'f']\n",
    "alias_letters = letters\n",
    "clone_letters = letters[:]\n",
    "alias_letters.append('i')\n",
    "print(letters, alias_letters, clone_letters)"
   ]
  },
  {
   "cell_type": "markdown",
   "id": "f0703d9d",
   "metadata": {},
   "source": [
    "## ✍️ Ejercicio final\n",
    "Combina lo aprendido:\n",
    "1. Crea una variable `student` con tu nombre.\n",
    "2. Crea `age` con tu edad.\n",
    "3. Usa `print()` para mostrar un mensaje que combine ambas.\n",
    "4. Convierte `age` en cadena antes de concatenarla. "
   ]
  },
  {
   "cell_type": "markdown",
   "id": "aeef54b3",
   "metadata": {},
   "source": [
    "## 11 Raw strings en Python — Ejercicios\n",
    "\n",
    "En estos ejercicios practicaremos el uso de **raw strings** (`r\"...\"`) para evitar que Python interprete secuencias de escape (`\\n`, `\\t`, `\\\\`, etc.). \n",
    "\n",
    "Recuerda:\n",
    "- Un *raw string* **no procesa** las secuencias de escape.\n",
    "- No puede **terminar** con una barra invertida suelta (`\\`).\n",
    "- El delimitador de comillas **sigue cerrando** la cadena (usa el otro tipo de comillas o comillas triples si necesitas incluirlas dentro)."
   ]
  },
  {
   "cell_type": "markdown",
   "id": "49f2ef30",
   "metadata": {},
   "source": [
    "### Ejercicio 1 — Comparar cadena normal vs raw string (rutas Windows)\n",
    "\n",
    "Crea dos variables que representen la misma ruta de Windows:\n",
    "1) `path_normal` como cadena normal escapando barras.\n",
    "2) `path_raw` como raw string sin duplicar barras.\n",
    "\n",
    "Imprime ambas y verifica que la salida es idéntica: `C:\\Users\\Python`."
   ]
  },
  {
   "cell_type": "code",
   "execution_count": null,
   "id": "b4cdbc97",
   "metadata": {},
   "outputs": [
    {
     "name": "stdout",
     "output_type": "stream",
     "text": [
      "C:\\Users\\Python\n",
      "C:\\Users\\Python\n"
     ]
    }
   ],
   "source": [
    "# Escribe aquí tu código\n",
    "# Crea path_normal (cadena normal) y path_raw (raw string) y muéstralas por pantalla"
   ]
  },
  {
   "cell_type": "markdown",
   "id": "e1e004c3",
   "metadata": {},
   "source": [
    "### Ejercicio 2 — Secuencias de escape visibles\n",
    "\n",
    "Crea dos cadenas que contengan el texto `\\n` y `\\t`:\n",
    "- `escaped_text` como cadena normal para observar el salto de línea y tabulación.\n",
    "- `raw_text` como raw string para ver los caracteres `\\` y `n`, `\\` y `t` literalmente.\n",
    "\n",
    "Imprime cada una y comenta la diferencia visual."
   ]
  },
  {
   "cell_type": "code",
   "execution_count": null,
   "id": "099f1c1d",
   "metadata": {},
   "outputs": [],
   "source": [
    "# Escribe aquí tu solución\n",
    "# Muestra la diferencia entre una cadena normal y un raw string con \\n y \\t\n"
   ]
  },
  {
   "cell_type": "markdown",
   "id": "8517b4c6",
   "metadata": {},
   "source": [
    "### Ejercicio 3 — Expresiones regulares (patrones con backslashes)\n",
    "Supón que quieres un patrón que coincida con un número con prefijo `\\d+` (dígitos) y luego un literal de barra invertida `\\` seguido de la letra `n` (queremos ver `\\n` como dos caracteres, no salto de línea).\n",
    "\n",
    "1) Define `pattern_normal` SIN raw string y observa cuántos backslashes necesitas.\n",
    "2) Define `pattern_raw` usando `r\"...\"` para simplificar.\n",
    "3) Imprime ambos patrones para comprobar que representan la misma secuencia de caracteres."
   ]
  },
  {
   "cell_type": "code",
   "execution_count": null,
   "id": "5d88a676",
   "metadata": {},
   "outputs": [],
   "source": [
    "# Escribe aquí tu solución\n",
    "# Crea pattern_normal (cadena normal) y pattern_raw (raw string) que representen lo mismo y compáralos\n"
   ]
  },
  {
   "cell_type": "markdown",
   "id": "59d5aefe",
   "metadata": {},
   "source": [
    "### Ejercicio 4 — Error común: raw string terminando en backslash\n",
    "\n",
    "Intenta crear una ruta que termine en barra invertida (por ejemplo, `C:\\Temp\\`). \n",
    "1) Explica por qué `r\"C:\\Temp\\\"` da error de sintaxis.\n",
    "2) Muestra dos formas correctas de representarla:\n",
    "   - Duplicando la última barra en raw string: `r\"C:\\Temp\\\\\"`\n",
    "   - Usando cadena normal con escape adecuado: `\"C:\\\\Temp\\\\\"`\n",
    "3) Imprime ambas y verifica que la salida final termina en `\\`.\n",
    "\n"
   ]
  },
  {
   "cell_type": "code",
   "execution_count": null,
   "id": "7ef931b9",
   "metadata": {},
   "outputs": [],
   "source": [
    "# Escribe aquí tu solución\n",
    "# Demuestra el error (comentado) y las dos formas correctas, imprimiendo el resultado final\n"
   ]
  },
  {
   "cell_type": "markdown",
   "id": "c48e1308",
   "metadata": {},
   "source": [
    "## Ejercicio 5 — Comillas dentro de raw strings\n",
    "\n",
    "Queremos incluir comillas dobles en la cadena. Recuerda que en un raw string el delimitador **sigue cerrando** la cadena.\n",
    "1) Crea `text_ok_1` usando raw string con comillas simples como delimitador y comillas dobles dentro. r'texto \"ho\"'\n",
    "2) Crea `text_ok_2` usando comillas triples raw `r\"\"\"...\"\"\"` e incluye comillas dobles y simples dentro. r\"\"\" texto \"hola\" fin\"\"\"\n",
    "3) Explica por qué `r\"She said: \"hi\"\"` NO es válido como literal (no lo ejecutes).\n"
   ]
  },
  {
   "cell_type": "code",
   "execution_count": null,
   "id": "71fe45a6",
   "metadata": {},
   "outputs": [
    {
     "name": "stdout",
     "output_type": "stream",
     "text": [
      " Hola, qué tal, \"hola\" \n"
     ]
    }
   ],
   "source": [
    "# Escribe aquí tu solución\n",
    "# Crea text_ok_1 y text_ok_2, imprímelos y añade comentarios explicativos\n"
   ]
  },
  {
   "cell_type": "markdown",
   "id": "a564bee4",
   "metadata": {},
   "source": [
    "### Quiz final\n",
    "- ¿Qué imprime `print(r\"\\n\")`?  \n",
    "- ¿Se puede terminar un raw string con una barra invertida suelta? ¿Por qué?  \n",
    "- ¿Cómo incluir comillas dobles dentro de un raw string delimitado por comillas dobles?"
   ]
  },
  {
   "cell_type": "markdown",
   "id": "920ceafe",
   "metadata": {},
   "source": [
    "Responde aquí\n"
   ]
  }
 ],
 "metadata": {
  "kernelspec": {
   "display_name": "Python 3",
   "language": "python",
   "name": "python3"
  },
  "language_info": {
   "codemirror_mode": {
    "name": "ipython",
    "version": 3
   },
   "file_extension": ".py",
   "mimetype": "text/x-python",
   "name": "python",
   "nbconvert_exporter": "python",
   "pygments_lexer": "ipython3",
   "version": "3.12.10"
  }
 },
 "nbformat": 4,
 "nbformat_minor": 5
}
