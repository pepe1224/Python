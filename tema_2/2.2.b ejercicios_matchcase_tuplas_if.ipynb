{
 "cells": [
  {
   "cell_type": "markdown",
   "id": "5275fe20",
   "metadata": {},
   "source": [
    "### 🧩 Ejercicios de `match-case` con guardas en Python"
   ]
  },
  {
   "cell_type": "markdown",
   "id": "c6e939f3",
   "metadata": {},
   "source": [
    "### 🎮 Ejercicio 1 — Videojuego: puntuación\n",
    "Implementa `game_status(event)` que recibe una tupla `(\"game\", points)` y devuelve:\n",
    "\n",
    "- `\"Nivel superado\"` si `points >= 100`\n",
    "- `\"Sigue intentando\"` si `points < 100`\n",
    "- En cualquier otro caso → `\"Evento desconocido\"`"
   ]
  },
  {
   "cell_type": "code",
   "execution_count": 1,
   "id": "53b302b4",
   "metadata": {},
   "outputs": [],
   "source": [
    "# ✏️ Solución del alumno (completar)\n",
    "def game_status(event):\n",
    "    # TODO: implementar con match-case y guardas\n",
    "    match event:\n",
    "        case ('game', points) if points >= 100:\n",
    "            return 'Nivel superado'\n",
    "        case ('game', points) if points < 100:\n",
    "            return 'Sigue intentando'\n",
    "        case _:\n",
    "            return 'Evento desconocido'"
   ]
  },
  {
   "cell_type": "code",
   "execution_count": 2,
   "id": "aea6cf0f",
   "metadata": {},
   "outputs": [
    {
     "name": "stderr",
     "output_type": "stream",
     "text": [
      "...\n",
      "----------------------------------------------------------------------\n",
      "Ran 3 tests in 0.002s\n",
      "\n",
      "OK\n"
     ]
    },
    {
     "data": {
      "text/plain": [
       "<unittest.main.TestProgram at 0x7e654821d7c0>"
      ]
     },
     "execution_count": 2,
     "metadata": {},
     "output_type": "execute_result"
    }
   ],
   "source": [
    "# ✅ Tests\n",
    "import unittest\n",
    "\n",
    "class TestGameStatus(unittest.TestCase):\n",
    "    def test_nivel_superado(self):\n",
    "        self.assertEqual(game_status((\"game\", 150)), \"Nivel superado\")\n",
    "        self.assertEqual(game_status((\"game\", 100)), \"Nivel superado\")\n",
    "\n",
    "    def test_sigue_intentando(self):\n",
    "        self.assertEqual(game_status((\"game\", 99)), \"Sigue intentando\")\n",
    "        self.assertEqual(game_status((\"game\", 0)), \"Sigue intentando\")\n",
    "\n",
    "    def test_evento_desconocido(self):\n",
    "        self.assertEqual(game_status((\"other\", 100)), \"Evento desconocido\")\n",
    "        self.assertEqual(game_status((\"game\",)), \"Evento desconocido\")\n",
    "\n",
    "unittest.main(argv=[''], exit=False)"
   ]
  },
  {
   "cell_type": "markdown",
   "id": "6338a88f",
   "metadata": {},
   "source": [
    "### ⚽ Ejercicio 2 — Fútbol: resultado del partido\n",
    "Implementa `match_result(score)` que recibe una tupla `(goles_local, goles_visitante)` y devuelve:\n",
    "\n",
    "- `\"Victoria local\"` si `goles_local > goles_visitante`\n",
    "- `\"Victoria visitante\"` si `goles_local < goles_visitante`\n",
    "- `\"Empate\"` si son iguales\n",
    "- Si la tupla no tiene dos enteros → `\"Marcador inválido\"`"
   ]
  },
  {
   "cell_type": "code",
   "execution_count": null,
   "id": "3ab27fa8",
   "metadata": {},
   "outputs": [
    {
     "ename": "SyntaxError",
     "evalue": "invalid syntax (1704296347.py, line 4)",
     "output_type": "error",
     "traceback": [
      "  \u001b[36mCell\u001b[39m\u001b[36m \u001b[39m\u001b[32mIn[13]\u001b[39m\u001b[32m, line 4\u001b[39m\n\u001b[31m    \u001b[39m\u001b[31m*match score:\u001b[39m\n           ^\n\u001b[31mSyntaxError\u001b[39m\u001b[31m:\u001b[39m invalid syntax\n"
     ]
    }
   ],
   "source": [
    "# ✏️ Solución del alumno (completar)\n",
    "def match_result(score):\n",
    "    # TODO: implementar con match-case y guardas\n",
    "    match score:\n",
    "        case (goles_local, goles_visitante) if goles_local > goles_visitante:\n",
    "            return \"Victoria local\"\n",
    "        case (goles_local, goles_visitante) if goles_visitante < goles_local:\n",
    "            return \"Victoria visitante\"\n",
    "        case (goles_local, goles_visitante) if goles_visitante == goles_local:\n",
    "            return \"Empate\"\n",
    "        case _:\n",
    "            return \"Marcador inválido\"\n"
   ]
  },
  {
   "cell_type": "code",
   "execution_count": 10,
   "id": "91d2308e",
   "metadata": {},
   "outputs": [
    {
     "name": "stderr",
     "output_type": "stream",
     "text": [
      "....E.F\n",
      "======================================================================\n",
      "ERROR: test_invalido (__main__.TestMatchResult.test_invalido)\n",
      "----------------------------------------------------------------------\n",
      "Traceback (most recent call last):\n",
      "  File \"/tmp/ipykernel_6777/2172626287.py\", line 13, in test_invalido\n",
      "    self.assertEqual(match_result((\"a\", 1)), \"Marcador inválido\")\n",
      "                     ^^^^^^^^^^^^^^^^^^^^^^\n",
      "  File \"/tmp/ipykernel_6777/3566267618.py\", line 5, in match_result\n",
      "    case (goles_local, goles_visitante) if goles_local > goles_visitante:\n",
      "                                           ^^^^^^^^^^^^^^^^^^^^^^^^^^^^^\n",
      "TypeError: '>' not supported between instances of 'str' and 'int'\n",
      "\n",
      "======================================================================\n",
      "FAIL: test_victoria_visitante (__main__.TestMatchResult.test_victoria_visitante)\n",
      "----------------------------------------------------------------------\n",
      "Traceback (most recent call last):\n",
      "  File \"/tmp/ipykernel_6777/2172626287.py\", line 8, in test_victoria_visitante\n",
      "    self.assertEqual(match_result((0, 2)), \"Victoria visitante\")\n",
      "AssertionError: 'Marcador inválido' != 'Victoria visitante'\n",
      "- Marcador inválido\n",
      "+ Victoria visitante\n",
      "\n",
      "\n",
      "----------------------------------------------------------------------\n",
      "Ran 7 tests in 0.004s\n",
      "\n",
      "FAILED (failures=1, errors=1)\n"
     ]
    },
    {
     "data": {
      "text/plain": [
       "<unittest.main.TestProgram at 0x7e6539406720>"
      ]
     },
     "execution_count": 10,
     "metadata": {},
     "output_type": "execute_result"
    }
   ],
   "source": [
    "# ✅ Tests\n",
    "import unittest\n",
    "\n",
    "class TestMatchResult(unittest.TestCase):\n",
    "    def test_victoria_local(self):\n",
    "        self.assertEqual(match_result((3, 1)), \"Victoria local\")\n",
    "    def test_victoria_visitante(self):\n",
    "        self.assertEqual(match_result((0, 2)), \"Victoria visitante\")\n",
    "    def test_empate(self):\n",
    "        self.assertEqual(match_result((2, 2)), \"Empate\")\n",
    "    def test_invalido(self):\n",
    "        self.assertEqual(match_result((2,)), \"Marcador inválido\")\n",
    "        self.assertEqual(match_result((\"a\", 1)), \"Marcador inválido\")\n",
    "\n",
    "unittest.main(argv=[''], exit=False)"
   ]
  },
  {
   "cell_type": "markdown",
   "id": "6375f4bb",
   "metadata": {},
   "source": [
    "### 🎵 Ejercicio 3 — Conciertos: entradas\n",
    "Implementa `ticket_status(event)` que recibe una tupla `(\"concierto dj nano\", tickets)` y devuelve:\n",
    "\n",
    "- `\"Agotado\"` si `tickets == 0`\n",
    "- `\"Entradas disponibles\"` si `tickets > 0`\n",
    "- Cualquier otro caso → `\"Evento desconocido\"`"
   ]
  },
  {
   "cell_type": "code",
   "execution_count": null,
   "id": "0746fd4e",
   "metadata": {},
   "outputs": [],
   "source": [
    "# ✏️ Solución del alumno (completar)\n",
    "def ticket_status(event):\n",
    "    # TODO: implementar con match-case y guardas\n",
    "    pass"
   ]
  },
  {
   "cell_type": "code",
   "execution_count": null,
   "id": "113be654",
   "metadata": {},
   "outputs": [],
   "source": [
    "# ✅ Tests\n",
    "import unittest\n",
    "\n",
    "class TestTicketStatus(unittest.TestCase):\n",
    "    def test_agotado(self):\n",
    "        self.assertEqual(ticket_status((\"concierto dj nano\", 0)), \"Agotado\")\n",
    "    def test_disponibles(self):\n",
    "        self.assertEqual(ticket_status((\"concierto dj nano\", 50)), \"Entradas disponibles\")\n",
    "        self.assertEqual(ticket_status((\"concierto dj nano\", 1)), \"Entradas disponibles\")\n",
    "    def test_evento_desconocido(self):\n",
    "        self.assertEqual(ticket_status((\"show\", 10)), \"Evento desconocido\")\n",
    "        self.assertEqual(ticket_status((\"concierto dj nano\",)), \"Evento desconocido\")\n",
    "\n",
    "unittest.main(argv=[''], exit=False)"
   ]
  },
  {
   "cell_type": "markdown",
   "id": "cc2e66ef",
   "metadata": {},
   "source": [
    "### 🏋️ Ejercicio 4 — Gimnasio: plan y visitas\n",
    "Implementa `gym_benefit(event)` que recibe una tupla `(\"gym\", plan, visits)` donde:\n",
    "\n",
    "- `plan` ∈ `{ \"basic\", \"pro\" }`\n",
    "\n",
    "Devuelve:\n",
    "- `\"Batido gratis\"` si `plan == \"pro\"` y `visits >= 12`\n",
    "- `\"Pase de invitado\"` si `plan == \"pro\"` y `visits < 12`\n",
    "- `\"Cupón descuento\"` si `plan == \"basic\"` y `visits >= 8`\n",
    "- `\"Sigue entrenando\"` si `plan == \"basic\"` y `visits < 8`\n",
    "- En cualquier otro caso → `\"Membresía desconocida\"`"
   ]
  },
  {
   "cell_type": "code",
   "execution_count": null,
   "id": "e65d700b",
   "metadata": {},
   "outputs": [],
   "source": [
    "# ✏️ Solución del alumno (completar)\n",
    "def gym_benefit(event):\n",
    "    # TODO: implementar con match-case y guardas\n",
    "    pass"
   ]
  },
  {
   "cell_type": "code",
   "execution_count": null,
   "id": "bc16e913",
   "metadata": {},
   "outputs": [],
   "source": [
    "# ✅ Tests\n",
    "import unittest\n",
    "\n",
    "class TestGymBenefit(unittest.TestCase):\n",
    "    def test_plan_pro(self):\n",
    "        self.assertEqual(gym_benefit((\"gym\", \"pro\", 15)), \"Batido gratis\")\n",
    "        self.assertEqual(gym_benefit((\"gym\", \"pro\", 5)), \"Pase de invitado\")\n",
    "    def test_plan_basic(self):\n",
    "        self.assertEqual(gym_benefit((\"gym\", \"basic\", 10)), \"Cupón descuento\")\n",
    "        self.assertEqual(gym_benefit((\"gym\", \"basic\", 3)), \"Sigue entrenando\")\n",
    "    def test_membresia_desconocida(self):\n",
    "        self.assertEqual(gym_benefit((\"gym\", \"vip\", 10)), \"Membresía desconocida\")\n",
    "        self.assertEqual(gym_benefit((\"club\", \"pro\", 10)), \"Membresía desconocida\")\n",
    "        self.assertEqual(gym_benefit((\"gym\", \"pro\")), \"Membresía desconocida\")\n",
    "\n",
    "unittest.main(argv=[''], exit=False)"
   ]
  }
 ],
 "metadata": {
  "kernelspec": {
   "display_name": ".venv",
   "language": "python",
   "name": "python3"
  },
  "language_info": {
   "codemirror_mode": {
    "name": "ipython",
    "version": 3
   },
   "file_extension": ".py",
   "mimetype": "text/x-python",
   "name": "python",
   "nbconvert_exporter": "python",
   "pygments_lexer": "ipython3",
   "version": "3.12.3"
  }
 },
 "nbformat": 4,
 "nbformat_minor": 5
}
