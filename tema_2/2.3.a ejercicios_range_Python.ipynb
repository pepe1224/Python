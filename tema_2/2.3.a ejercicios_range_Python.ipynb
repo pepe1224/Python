{
 "cells": [
  {
   "cell_type": "markdown",
   "id": "cce23529",
   "metadata": {},
   "source": [
    "### 💻 Actividad: Contador con `range()` en Python\n",
    "En esta práctica aprenderás a usar la función `range()` para generar secuencias de números.\n",
    "Vamos a resolver paso a paso varios ejemplos para comprender cómo funciona."
   ]
  },
  {
   "cell_type": "markdown",
   "id": "ceef004a",
   "metadata": {},
   "source": [
    "#### 🔹 1. Mostrar los números del 1 al 10"
   ]
  },
  {
   "cell_type": "code",
   "execution_count": null,
   "id": "2037b6cb",
   "metadata": {},
   "outputs": [],
   "source": [
    "print(\"Números del 1 al 10:\")\n",
    "# añade for y range"
   ]
  },
  {
   "cell_type": "markdown",
   "id": "c3e183cc",
   "metadata": {},
   "source": [
    "#### 🔹 2. Mostrar solo los números pares del 2 al 20"
   ]
  },
  {
   "cell_type": "code",
   "execution_count": null,
   "id": "9f6f9ee6",
   "metadata": {},
   "outputs": [
    {
     "name": "stdout",
     "output_type": "stream",
     "text": [
      "\n",
      "2️⃣  Números pares del 2 al 20:\n",
      "2\n",
      "4\n",
      "6\n",
      "8\n",
      "10\n",
      "12\n",
      "14\n",
      "16\n",
      "18\n",
      "20\n"
     ]
    }
   ],
   "source": [
    "print(\"Números pares del 2 al 20:\")\n",
    "# añade for y range"
   ]
  },
  {
   "cell_type": "markdown",
   "id": "85fa8617",
   "metadata": {},
   "source": [
    "#### 🔹 3. Mostrar una cuenta atrás del 5 al 2"
   ]
  },
  {
   "cell_type": "code",
   "execution_count": null,
   "id": "f66a11f1",
   "metadata": {},
   "outputs": [],
   "source": [
    "print(\"Cuenta atrás del 5 al 2:\")\n",
    "# añade for y range"
   ]
  },
  {
   "cell_type": "markdown",
   "id": "23bf539e",
   "metadata": {},
   "source": [
    "#### 🔹 4. Guardar los números del 5 al 15 en una lista e imprimirlos"
   ]
  },
  {
   "cell_type": "code",
   "execution_count": null,
   "id": "d97c8d60",
   "metadata": {},
   "outputs": [],
   "source": [
    "print(\"Lista con los números del 5 al 15:\")\n",
    "numeros = list(range(5, 16))\n",
    "print(numeros)"
   ]
  },
  {
   "cell_type": "markdown",
   "id": "496f4d4a",
   "metadata": {},
   "source": [
    "## 🔸 Explicación adicional\n",
    "`range(inicio, fin, paso)`\n",
    "- **inicio**: número donde empieza.\n",
    "- **fin**: número donde se detiene (sin incluirlo).\n",
    "- **paso**: incremento (positivo o negativo)."
   ]
  },
  {
   "cell_type": "markdown",
   "id": "941cba7b",
   "metadata": {},
   "source": [
    "## 💡 Ejemplo extra: recorrer la lista creada"
   ]
  },
  {
   "cell_type": "code",
   "execution_count": 2,
   "id": "09f5e439",
   "metadata": {},
   "outputs": [
    {
     "name": "stdout",
     "output_type": "stream",
     "text": [
      "Recorriendo la lista de nuevo:\n",
      "El número es:  5\n",
      "El número es:  6\n",
      "El número es:  7\n",
      "El número es:  8\n",
      "El número es:  9\n",
      "El número es:  10\n",
      "El número es:  11\n",
      "El número es:  12\n",
      "El número es:  13\n",
      "El número es:  14\n",
      "El número es:  15\n"
     ]
    }
   ],
   "source": [
    "print(\"Recorriendo la lista de nuevo:\")\n",
    "numeros = list(range(5, 16))\n",
    "for n in numeros:\n",
    "    print(\"El número es: \", n)"
   ]
  }
 ],
 "metadata": {
  "kernelspec": {
   "display_name": "Python 3",
   "language": "python",
   "name": "python3"
  },
  "language_info": {
   "codemirror_mode": {
    "name": "ipython",
    "version": 3
   },
   "file_extension": ".py",
   "mimetype": "text/x-python",
   "name": "python",
   "nbconvert_exporter": "python",
   "pygments_lexer": "ipython3",
   "version": "3.13.2"
  }
 },
 "nbformat": 4,
 "nbformat_minor": 5
}
