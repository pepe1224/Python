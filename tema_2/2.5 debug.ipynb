{
 "cells": [
  {
   "cell_type": "markdown",
   "id": "d8219572",
   "metadata": {},
   "source": [
    "# 🐞 Ejercicio: Depuración en Python con bucles `for`\n",
    "\n",
    "En este ejercicio aprenderás a **usar la depuración paso a paso** para encontrar y corregir errores en programas que usan bucles `for`."
   ]
  },
  {
   "cell_type": "code",
   "execution_count": 2,
   "id": "f03d3a0e",
   "metadata": {},
   "outputs": [
    {
     "name": "stdout",
     "output_type": "stream",
     "text": [
      "Ejercicio 1: Suma de los 5 primeros números naturales\n",
      "Resultado: 15\n"
     ]
    }
   ],
   "source": [
    "# Ejercicio 1: Suma de números\n",
    "\n",
    "print(\"Ejercicio 1: Suma de los 5 primeros números naturales\")\n",
    "\n",
    "suma = 0\n",
    "for i in range(1, 6):  # debería sumar 1 + 2 + 3 + 4 + 5 = 15\n",
    "    suma = suma + i\n",
    "\n",
    "print(\"Resultado:\", suma)\n",
    "\n",
    "# Prueba a poner un punto de interrupción (breakpoint) y comprobar cómo cambia 'suma' en cada iteración."
   ]
  },
  {
   "cell_type": "code",
   "execution_count": null,
   "id": "6961df2c",
   "metadata": {},
   "outputs": [
    {
     "name": "stdout",
     "output_type": "stream",
     "text": [
      "\n",
      "Ejercicio 2: Detectar el error en el código\n"
     ]
    }
   ],
   "source": [
    "# Ejercicio 2: Error común de depuración\n",
    "\n",
    "print(\"\\nEjercicio 2: Detectar el error en el código\")\n",
    "\n",
    "total = 0\n",
    "for i in range(1, 6):\n",
    "    total = total + 1  # ❌ Error: se está sumando 1 en vez de 'i'\n",
    "\n",
    "print(\"El total debería ser 15, pero el programa muestra:\", total)\n",
    "\n",
    "# 💡 Usa el depurador para ver cómo cambia 'total' en cada paso y detectar por qué no se obtiene el resultado esperado."
   ]
  },
  {
   "cell_type": "code",
   "execution_count": null,
   "id": "757e32d1",
   "metadata": {},
   "outputs": [],
   "source": [
    "# Ejercicio 3: Contador descendente\n",
    "\n",
    "print(\"\\nEjercicio 3: Cuenta atrás desde 5\")\n",
    "\n",
    "for i in range(5, 0, -1):\n",
    "    print(\"Número:\", i)\n",
    "\n",
    "print(\"¡Despegue!\")\n",
    "\n",
    "# 💬 Intenta depurar para ver cómo cambia 'i' en cada iteración."
   ]
  },
  {
   "cell_type": "code",
   "execution_count": null,
   "id": "4382de45",
   "metadata": {},
   "outputs": [],
   "source": [
    "# Ejercicio 4: Suma de números pares del 1 al 10\n",
    "\n",
    "print(\"\\nEjercicio 4: Suma de números pares del 1 al 10\")\n",
    "\n",
    "suma_pares = 0\n",
    "for i in range(1, 11):\n",
    "    if i % 2 == 0:\n",
    "        suma_pares += i\n",
    "\n",
    "print(\"Resultado correcto:\", suma_pares)\n",
    "\n",
    "# 💡 Intenta equivocarte a propósito (por ejemplo, usar '!=' en lugar de '==') y usa el depurador para entender qué ocurre."
   ]
  },
  {
   "cell_type": "markdown",
   "id": "1544be7d",
   "metadata": {},
   "source": [
    "## 🔍 Instrucciones para los alumnos\n",
    "1. Ejecuta cada celda una por una.\n",
    "2. Abre el **depurador** pinchando en la flechita superior izquierda de la celda de código y dando a Debug Cell (Ctrl + Shift + Alt + Enter).\n",
    "3. Añade un **punto de interrupción** en alguna línea dentro del bucle `for`. Haz doble click en la línea y verás un puntito rojo.\n",
    "4. Observa cómo cambian las variables (`i`, `suma`, `total`, etc.) paso a paso.\n"
   ]
  },
  {
   "cell_type": "code",
   "execution_count": null,
   "id": "7f5dc424",
   "metadata": {},
   "outputs": [],
   "source": [
    "# ---------------------------------------------------------\n",
    "# 💻 EJERCICIO DE DEPURACIÓN: SUMA DE NÚMEROS PARES\n",
    "# ---------------------------------------------------------\n",
    "# Este programa pretende calcular la suma de los números pares\n",
    "# del 1 al 10, pero contiene varios errores.\n",
    "# Tu misión es encontrarlos y corregirlos.\n",
    "# ---------------------------------------------------------\n",
    "\n",
    "suma = 0\n",
    "\n",
    "for i in range(1, 10):   # ❌ Error 1: el rango no incluye el 10\n",
    "    if i % 2 == 1:       # ❌ Error 2: detecta los impares, no los pares\n",
    "        suma = suma + 1  # ❌ Error 3: no está sumando el número correcto\n",
    "\n",
    "print(\"La suma de los números pares del 1 al 10 es:\", suma)\n"
   ]
  },
  {
   "cell_type": "markdown",
   "id": "5ae2397b",
   "metadata": {},
   "source": [
    "🔍 Pasos para depurar\n",
    "\n",
    "- Coloca un punto de interrupción (breakpoint) en la línea del for.\n",
    "- Inicia la depuración paso a paso.\n",
    "- Observa cómo cambia el valor de i en cada vuelta del bucle.\n",
    "- Fíjate en el valor de suma y comprueba si aumenta correctamente.\n",
    "- Corrige el código para que funcione como se espera."
   ]
  },
  {
   "cell_type": "markdown",
   "id": "3047d06d",
   "metadata": {},
   "source": [
    "🧠 Ampliación\n",
    "\n",
    "- Cambia el rango a range(1, 21) para sumar los pares hasta el 20.\n",
    "- Inserta un print(i) dentro del bucle para ver qué valores se están sumando.\n",
    "- Explica qué ocurre si cambias el paso del rango:\n",
    "        ```python\n",
    "        for i in range(2, 11, 2):\n",
    "        ```\n",
    "   y cómo afecta eso al resultado."
   ]
  },
  {
   "cell_type": "code",
   "execution_count": null,
   "id": "ab8ee139",
   "metadata": {},
   "outputs": [],
   "source": [
    "# TU CÓDIGO AQUÍ"
   ]
  },
  {
   "cell_type": "code",
   "execution_count": null,
   "id": "2092f4a7",
   "metadata": {},
   "outputs": [],
   "source": [
    "suma = 0\n",
    "\n",
    "for i in range(1, 10):   \n",
    "    if i % 2 == 1:       \n",
    "        suma = suma + 1  \n",
    "\n",
    "print(\"La suma de los números pares del 1 al 10 es:\", suma)"
   ]
  }
 ],
 "metadata": {
  "kernelspec": {
   "display_name": ".venv",
   "language": "python",
   "name": "python3"
  },
  "language_info": {
   "codemirror_mode": {
    "name": "ipython",
    "version": 3
   },
   "file_extension": ".py",
   "mimetype": "text/x-python",
   "name": "python",
   "nbconvert_exporter": "python",
   "pygments_lexer": "ipython3",
   "version": "3.12.3"
  }
 },
 "nbformat": 4,
 "nbformat_minor": 5
}
