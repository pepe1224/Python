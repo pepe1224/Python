{
 "cells": [
  {
   "cell_type": "markdown",
   "id": "39479d6b",
   "metadata": {},
   "source": [
    "### Control de Excepciones en Python\n",
    "\n",
    "En Python, las excepciones son errores que ocurren durante la ejecución. Podemos manejarlos con `try`, `except`, `else`, `finally` y `raise` para que el programa no se bloquee o pare su ejecución de forma repentina."
   ]
  },
  {
   "cell_type": "markdown",
   "id": "864ac9f7",
   "metadata": {},
   "source": [
    "## Concepto básico: try y except\n",
    "Usamos `try` para ejecutar código que puede fallar y `except` para manejar la excepción.\n",
    "\n",
    "Ejemplo:\n",
    "```python\n",
    "try:\n",
    "    numero = int('abc')\n",
    "except ValueError:\n",
    "    print('¡Error! Debes introducir un número válido.')\n",
    "```"
   ]
  },
  {
   "cell_type": "markdown",
   "id": "0ede02bb",
   "metadata": {},
   "source": [
    "### Ejercicio 1: Capturar ValueError\n",
    "Simula que el usuario introduce algo que no es número y muestra un mensaje de error."
   ]
  },
  {
   "cell_type": "code",
   "execution_count": null,
   "id": "4c8112cd",
   "metadata": {},
   "outputs": [],
   "source": [
    "# Solución Ejercicio 1\n"
   ]
  },
  {
   "cell_type": "code",
   "execution_count": null,
   "id": "c94903a0",
   "metadata": {},
   "outputs": [],
   "source": [
    "# Test Ejercicio 1\n",
    "assert mensaje == \"¡Error! Debes introducir un número válido.\"\n",
    "print(\"✅ Test pasado correctamente\")"
   ]
  },
  {
   "cell_type": "markdown",
   "id": "ea18e049",
   "metadata": {},
   "source": [
    "## Capturar múltiples excepciones\n",
    "Podemos capturar varios tipos de errores usando varios bloques `except`.\n",
    "\n",
    "Ejemplo:\n",
    "```python\n",
    "try:\n",
    "    x = 10 / 0\n",
    "except ValueError:\n",
    "    print('Error de valor')\n",
    "except ZeroDivisionError:\n",
    "    print('No se puede dividir entre cero')\n",
    "```"
   ]
  },
  {
   "cell_type": "markdown",
   "id": "b09a60d1",
   "metadata": {},
   "source": [
    "### Ejercicio 2: Capturar ZeroDivisionError\n",
    "Divide 100 entre 0 y captura el error."
   ]
  },
  {
   "cell_type": "code",
   "execution_count": null,
   "id": "e58ae563",
   "metadata": {},
   "outputs": [],
   "source": [
    "# Solución Ejercicio 2\n"
   ]
  },
  {
   "cell_type": "code",
   "execution_count": null,
   "id": "e52d0c66",
   "metadata": {},
   "outputs": [],
   "source": [
    "# Test Ejercicio 2\n",
    "assert mensaje == \"No se puede dividir entre cero\"\n",
    "print(\"✅ Test pasado correctamente\")"
   ]
  },
  {
   "cell_type": "markdown",
   "id": "44b566ed",
   "metadata": {},
   "source": [
    "## Uso de else y finally\n",
    "`else` se ejecuta si no hay errores, y `finally` siempre se ejecuta.\n",
    "\n",
    "Ejemplo:\n",
    "```python\n",
    "try:\n",
    "    resultado = 10 / 2\n",
    "except ZeroDivisionError:\n",
    "    print('Error división')\n",
    "else:\n",
    "    print('Resultado:', resultado)\n",
    "finally:\n",
    "    print('Fin del programa')\n",
    "```"
   ]
  },
  {
   "cell_type": "markdown",
   "id": "358ee665",
   "metadata": {},
   "source": [
    "### Ejercicio 3: Uso de else y finally\n",
    "Divide 50 entre un número positivo e imprime resultado en `else` y siempre imprime fin en `finally`."
   ]
  },
  {
   "cell_type": "code",
   "execution_count": null,
   "id": "cb21b7de",
   "metadata": {},
   "outputs": [],
   "source": [
    "# Solución Ejercicio 3\n"
   ]
  },
  {
   "cell_type": "code",
   "execution_count": null,
   "id": "8e62f214",
   "metadata": {},
   "outputs": [],
   "source": [
    "# Test Ejercicio 3\n",
    "assert mensaje == 'Resultado: 5.0'\n",
    "assert fin == 'Fin del cálculo'\n",
    "print(\"✅ Test pasado correctamente\")"
   ]
  },
  {
   "cell_type": "markdown",
   "id": "ff5f6787",
   "metadata": {},
   "source": [
    "## Lanzar excepciones con raise\n",
    "Podemos generar errores intencionados para validar datos.\n",
    "\n",
    "Ejemplo:\n",
    "```python\n",
    "edad = -1\n",
    "if edad < 0:\n",
    "    raise ValueError('Edad no puede ser negativa')\n",
    "```"
   ]
  },
  {
   "cell_type": "markdown",
   "id": "fb94d050",
   "metadata": {},
   "source": [
    "### Ejercicio 4: Lanzar excepción con raise\n",
    "Pide un número positivo. Si es negativo, lanza ValueError."
   ]
  },
  {
   "cell_type": "code",
   "execution_count": null,
   "id": "f8bb90c3",
   "metadata": {},
   "outputs": [],
   "source": [
    "# Solución Ejercicio 4\n"
   ]
  },
  {
   "cell_type": "code",
   "execution_count": null,
   "id": "76f52695",
   "metadata": {},
   "outputs": [],
   "source": [
    "# Test Ejercicio 4\n",
    "assert mensaje == 'Número negativo no permitido'\n",
    "print(\"✅ Test pasado correctamente\")"
   ]
  },
  {
   "cell_type": "markdown",
   "id": "78bddd49",
   "metadata": {},
   "source": [
    "## Combinación completa\n",
    "Ejemplo con try, except, else, finally y raise.\n",
    "Divide 100 entre un número positivo; captura errores y valida negativo con raise."
   ]
  },
  {
   "cell_type": "markdown",
   "id": "cb5721af",
   "metadata": {},
   "source": [
    "### Ejercicio 5: Combinación de try, except, else, finally y raise"
   ]
  },
  {
   "cell_type": "code",
   "execution_count": null,
   "id": "42a7ade0",
   "metadata": {},
   "outputs": [],
   "source": [
    "# Solución Ejercicio 5\n"
   ]
  },
  {
   "cell_type": "code",
   "execution_count": null,
   "metadata": {},
   "outputs": [],
   "source": [
    "# Test Ejercicio 5\n",
    "assert mensaje == 'No se puede dividir entre cero'\n",
    "assert fin == 'Fin del programa'\n",
    "print(\"✅ Test pasado correctamente\")"
   ]
  }
 ],
 "metadata": {
  "kernelspec": {
   "display_name": "Python 3",
   "language": "python",
   "name": "python3"
  },
  "language_info": {
   "name": "python",
   "version": "3.x"
  }
 },
 "nbformat": 4,
 "nbformat_minor": 5
}
